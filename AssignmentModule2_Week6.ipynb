{
 "cells": [
  {
   "cell_type": "markdown",
   "id": "afc21040-4b07-49c0-92ff-181c2cb7a487",
   "metadata": {
    "tags": []
   },
   "source": [
    "# Assignment_Module2_Week6"
   ]
  },
  {
   "cell_type": "markdown",
   "id": "47231d94-2e6d-4d73-bbbf-6021224cbb3c",
   "metadata": {
    "tags": []
   },
   "source": [
    "## Introduction: This is an introductory course on how to use tools in Data Science"
   ]
  },
  {
   "cell_type": "markdown",
   "id": "a15f06b2-01d4-45a7-b430-65af045fa541",
   "metadata": {},
   "source": [
    "### Data Science Programming Languages\n",
    "* Python\n",
    "* JavaScript\n",
    "* Java\n",
    "* R\n",
    "* MATLAB"
   ]
  },
  {
   "cell_type": "markdown",
   "id": "6f2e8692-a262-4d9d-b46e-701bbc12c7ed",
   "metadata": {
    "tags": []
   },
   "source": [
    "### Data Science Tools\n",
    "* SAS\n",
    "* Apache Spark\n",
    "* BigML\n",
    "* D3.js\n",
    "* MATLAB\n",
    "* Excel\n",
    "* ggplot2"
   ]
  },
  {
   "cell_type": "markdown",
   "id": "143040dd-4621-4911-8ed6-4455eeed0513",
   "metadata": {
    "tags": []
   },
   "source": [
    "### Data Science Libraries\n",
    "* NumPy\n",
    "* SciPy\n",
    "* Sci-Kit Learn \n",
    "* Matplotlib\n",
    "* ggvis"
   ]
  },
  {
   "cell_type": "code",
   "execution_count": null,
   "id": "19694f45-b10c-445e-b9a0-af6516c96d87",
   "metadata": {
    "tags": []
   },
   "outputs": [],
   "source": [
    "| SNo | Data Science tools |\n",
    "|:--------|:--------|\n",
    "|  1   |  SAS   |\n",
    "|  2   |  Apache Spark   | \n",
    "|  3   |  BigML   |  \n",
    "|  4   |  MATLAB   |  "
   ]
  },
  {
   "cell_type": "code",
   "execution_count": null,
   "id": "e50829f4-6a80-4060-903b-bb40d7fbe1d9",
   "metadata": {
    "tags": []
   },
   "outputs": [],
   "source": [
    "# Introduction to Arithmetic Expression in Jupiter Notebook\n",
    "\n",
    "Arithmetic Expressions in Jupiter Notebook can be written much the same way as normal way as mathematical expressions. "
   ]
  },
  {
   "cell_type": "code",
   "execution_count": null,
   "id": "edc04d6d-50bd-4695-99ba-15177550e222",
   "metadata": {
    "tags": []
   },
   "outputs": [],
   "source": [
    "a = 10\n",
    "b = 5\n",
    "c = a + b\n",
    "print('C =', c)"
   ]
  },
  {
   "cell_type": "code",
   "execution_count": 4,
   "id": "7a0270ec-b285-41e0-8833-02aebaa07a51",
   "metadata": {
    "tags": []
   },
   "outputs": [
    {
     "name": "stdout",
     "output_type": "stream",
     "text": [
      "C = 50\n"
     ]
    }
   ],
   "source": [
    "a = 10\n",
    "b = 5\n",
    "c = a * b\n",
    "print('C =', c)"
   ]
  },
  {
   "cell_type": "code",
   "execution_count": 5,
   "id": "f6a36130-fb14-4891-bc43-aacf11335396",
   "metadata": {
    "tags": []
   },
   "outputs": [
    {
     "name": "stdout",
     "output_type": "stream",
     "text": [
      "04:02\n"
     ]
    }
   ],
   "source": [
    "minutes = 242\n",
    "print(\"%02d:%02d\" % (divmod(minutes, 60)))"
   ]
  },
  {
   "cell_type": "markdown",
   "id": "e0460407-961c-49f8-a9b5-218235d8c977",
   "metadata": {},
   "source": [
    "#### List of objectives for the research are:\n",
    "1. To review current state of model-driven techniques and methodologies for designing Software Architecture;\n",
    "2. To analyse architectural designs and architectural patterns;\n",
    "3. To identify methodologies adopted in industrial contexts;\n",
    "4. To create model repositories for Software Architecture;"
   ]
  },
  {
   "cell_type": "markdown",
   "id": "13a8b776-38e2-4b43-a7f5-0dafb4d90372",
   "metadata": {
    "tags": []
   },
   "source": [
    "#### Author Name: \n",
    "Dr. Laud Charles Ochei"
   ]
  },
  {
   "cell_type": "code",
   "execution_count": null,
   "id": "071a3665-d9b9-43c3-b3e2-e4f10f9b4085",
   "metadata": {},
   "outputs": [],
   "source": []
  }
 ],
 "metadata": {
  "kernelspec": {
   "display_name": "Python",
   "language": "python",
   "name": "conda-env-python-py"
  },
  "language_info": {
   "codemirror_mode": {
    "name": "ipython",
    "version": 3
   },
   "file_extension": ".py",
   "mimetype": "text/x-python",
   "name": "python",
   "nbconvert_exporter": "python",
   "pygments_lexer": "ipython3",
   "version": "3.7.12"
  }
 },
 "nbformat": 4,
 "nbformat_minor": 5
}
